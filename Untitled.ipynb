{
 "cells": [
  {
   "cell_type": "code",
   "execution_count": 1,
   "id": "53734c07",
   "metadata": {},
   "outputs": [
    {
     "name": "stdout",
     "output_type": "stream",
     "text": [
      "Requirement already satisfied: speechrecognition in c:\\users\\hodcs\\anaconda3\\lib\\site-packages (3.10.3)\n",
      "Requirement already satisfied: pandas in c:\\users\\hodcs\\anaconda3\\lib\\site-packages (1.5.3)\n",
      "Collecting pyttsx3\n",
      "  Downloading pyttsx3-2.90-py3-none-any.whl (39 kB)\n",
      "Requirement already satisfied: openpyxl in c:\\users\\hodcs\\anaconda3\\lib\\site-packages (3.0.10)\n",
      "Requirement already satisfied: requests>=2.26.0 in c:\\users\\hodcs\\anaconda3\\lib\\site-packages (from speechrecognition) (2.29.0)\n",
      "Requirement already satisfied: typing-extensions in c:\\users\\hodcs\\anaconda3\\lib\\site-packages (from speechrecognition) (4.6.3)\n",
      "Requirement already satisfied: python-dateutil>=2.8.1 in c:\\users\\hodcs\\anaconda3\\lib\\site-packages (from pandas) (2.8.2)\n",
      "Requirement already satisfied: pytz>=2020.1 in c:\\users\\hodcs\\anaconda3\\lib\\site-packages (from pandas) (2022.7)\n",
      "Requirement already satisfied: numpy>=1.21.0 in c:\\users\\hodcs\\anaconda3\\lib\\site-packages (from pandas) (1.24.3)\n",
      "Collecting comtypes (from pyttsx3)\n",
      "  Downloading comtypes-1.4.1-py3-none-any.whl (197 kB)\n",
      "                                              0.0/197.9 kB ? eta -:--:--\n",
      "     --------                                41.0/197.9 kB 1.9 MB/s eta 0:00:01\n",
      "     -----------------------                122.9/197.9 kB 1.2 MB/s eta 0:00:01\n",
      "     -------------------------------------- 197.9/197.9 kB 1.3 MB/s eta 0:00:00\n",
      "Collecting pypiwin32 (from pyttsx3)\n",
      "  Downloading pypiwin32-223-py3-none-any.whl (1.7 kB)\n",
      "Requirement already satisfied: pywin32 in c:\\users\\hodcs\\anaconda3\\lib\\site-packages (from pyttsx3) (305.1)\n",
      "Requirement already satisfied: et_xmlfile in c:\\users\\hodcs\\anaconda3\\lib\\site-packages (from openpyxl) (1.1.0)\n",
      "Requirement already satisfied: six>=1.5 in c:\\users\\hodcs\\anaconda3\\lib\\site-packages (from python-dateutil>=2.8.1->pandas) (1.16.0)\n",
      "Requirement already satisfied: charset-normalizer<4,>=2 in c:\\users\\hodcs\\anaconda3\\lib\\site-packages (from requests>=2.26.0->speechrecognition) (2.0.4)\n",
      "Requirement already satisfied: idna<4,>=2.5 in c:\\users\\hodcs\\anaconda3\\lib\\site-packages (from requests>=2.26.0->speechrecognition) (3.4)\n",
      "Requirement already satisfied: urllib3<1.27,>=1.21.1 in c:\\users\\hodcs\\anaconda3\\lib\\site-packages (from requests>=2.26.0->speechrecognition) (1.26.16)\n",
      "Requirement already satisfied: certifi>=2017.4.17 in c:\\users\\hodcs\\anaconda3\\lib\\site-packages (from requests>=2.26.0->speechrecognition) (2023.5.7)\n",
      "Installing collected packages: comtypes, pypiwin32, pyttsx3\n",
      "Successfully installed comtypes-1.4.1 pypiwin32-223 pyttsx3-2.90\n",
      "Note: you may need to restart the kernel to use updated packages.\n"
     ]
    }
   ],
   "source": [
    "pip install speechrecognition pandas pyttsx3 openpyxl"
   ]
  },
  {
   "cell_type": "code",
   "execution_count": 3,
   "id": "2a5bd5ea",
   "metadata": {},
   "outputs": [],
   "source": [
    "import speech_recognition as sr\n",
    "import pandas as pd\n",
    "import pyttsx3"
   ]
  },
  {
   "cell_type": "code",
   "execution_count": 4,
   "id": "909ea2f2",
   "metadata": {},
   "outputs": [],
   "source": [
    "def listen():\n",
    "    recognizer = sr.Recognizer()\n",
    "    with sr.Microphone() as source:\n",
    "        print(\"Listening...\")\n",
    "        audio = recognizer.listen(source)\n",
    "        try:\n",
    "            text = recognizer.recognize_google(audio)\n",
    "            print(f\"You said: {text}\")\n",
    "            return text\n",
    "        except sr.UnknownValueError:\n",
    "            print(\"Google Speech Recognition could not understand audio\")\n",
    "        except sr.RequestError as e:\n",
    "            print(f\"Could not request results from Google Speech Recognition service; {e}\")"
   ]
  },
  {
   "cell_type": "code",
   "execution_count": 5,
   "id": "c50940a2",
   "metadata": {},
   "outputs": [],
   "source": [
    "# Function to fetch the schedule from the Excel file\n",
    "def get_schedule(section, df):\n",
    "    # Filtering the data for the requested section\n",
    "    filtered_df = df[df['SECTION'].str.contains(section, na=False)]\n",
    "    schedule = filtered_df.to_string(index=False)\n",
    "    return schedule"
   ]
  },
  {
   "cell_type": "code",
   "execution_count": 6,
   "id": "16425beb",
   "metadata": {},
   "outputs": [],
   "source": [
    "# Function to read text aloud\n",
    "def speak(text):\n",
    "    engine = pyttsx3.init()\n",
    "    engine.say(text)\n",
    "    engine.runAndWait()"
   ]
  },
  {
   "cell_type": "code",
   "execution_count": 9,
   "id": "a3dab934",
   "metadata": {},
   "outputs": [],
   "source": [
    "def load_data(file_path):\n",
    "    df = pd.read_excel(file_path, engine='openpyxl')\n",
    "    return df\n",
    "\n"
   ]
  },
  {
   "cell_type": "code",
   "execution_count": 18,
   "id": "bf132b0c",
   "metadata": {},
   "outputs": [],
   "source": [
    "# Main function to run the program\n",
    "def main():\n",
    "    file_path = r\"C:\\Users\\hodcs\\Desktop\\timetable.xlsx\"  # Update this with the actual path to your Excel file\n",
    "    df = load_data(file_path)\n",
    "    \n",
    "    print(\"Elmo is ready to assist you. Ask for a schedule.\")\n",
    "    query = listen()\n",
    "    if query:\n",
    "        section = query.split()[-1]  # Assuming the section is the last word in the query\n",
    "        schedule = get_schedule(section.upper(), df)\n",
    "        print(schedule)\n",
    "        speak(schedule)\n"
   ]
  },
  {
   "cell_type": "code",
   "execution_count": null,
   "id": "df2c38e0",
   "metadata": {},
   "outputs": [],
   "source": []
  }
 ],
 "metadata": {
  "kernelspec": {
   "display_name": "Python 3 (ipykernel)",
   "language": "python",
   "name": "python3"
  },
  "language_info": {
   "codemirror_mode": {
    "name": "ipython",
    "version": 3
   },
   "file_extension": ".py",
   "mimetype": "text/x-python",
   "name": "python",
   "nbconvert_exporter": "python",
   "pygments_lexer": "ipython3",
   "version": "3.11.3"
  }
 },
 "nbformat": 4,
 "nbformat_minor": 5
}
